{
  "nbformat": 4,
  "nbformat_minor": 0,
  "metadata": {
    "colab": {
      "name": "linux-internals.ipynb",
      "provenance": [],
      "collapsed_sections": [
        "wV6iZQTn9pDV"
      ],
      "toc_visible": true,
      "mount_file_id": "1mMxA8Rk4b2d0PKAeB-2deHWqcoGm4ZKM",
      "authorship_tag": "ABX9TyMWrPlWhYhKxzjnI4sD5HYu",
      "include_colab_link": true
    },
    "kernelspec": {
      "name": "python3",
      "display_name": "Python 3"
    },
    "language_info": {
      "name": "python"
    }
  },
  "cells": [
    {
      "cell_type": "markdown",
      "metadata": {
        "id": "view-in-github",
        "colab_type": "text"
      },
      "source": [
        "<a href=\"https://colab.research.google.com/github/KenYew/sre-notes/blob/main/linux_internals.ipynb\" target=\"_parent\"><img src=\"https://colab.research.google.com/assets/colab-badge.svg\" alt=\"Open In Colab\"/></a>"
      ]
    },
    {
      "cell_type": "markdown",
      "source": [
        "# 💻 Linux Internals"
      ],
      "metadata": {
        "id": "hlgTD_g1xC3J"
      }
    },
    {
      "cell_type": "markdown",
      "source": [
        "## 📖 Terminology\n",
        "1. **Operating system:** This refers to the software and files that are installed on a system so\n",
        "that it can boot and execute programs. It includes the kernel, administration tools, and\n",
        "system libraries.\n",
        "1. **Kernel:** The kernel is the program that manages the system, including (depending on the\n",
        "kernel model) hardware devices, memory, and CPU scheduling. It runs in a privileged\n",
        "CPU mode that allows direct access to hardware, called kernel mode.\n",
        "1. **Process:** An OS abstraction and environment for executing a program. The program runs\n",
        "in user mode, with access to kernel mode (e.g., for performing device I/O) via system calls\n",
        "or traps into the kernel.\n",
        "1. **Thread:** An executable context that can be scheduled to run on a CPU. The kernel has\n",
        "multiple threads, and a process contains one or more.\n",
        "1. **Task:** A Linux runnable entity, which can refer to a process (with a single thread), a thread\n",
        "from a multithreaded process, or kernel threads.\n",
        "1. **BPF program:** A kernel-mode program running in the BPF1 execution environment.\n",
        "1. **Main memory:** The physical memory of the system (e.g., RAM).\n",
        "1. **Virtual memory:** An abstraction of main memory that supports multitasking and oversubscription.\n",
        "It is, practically, an infinite resource.\n",
        "1. **Kernel space:** The virtual memory address space for the kernel.\n",
        "1. **User space:** The virtual memory address space for processes.\n",
        "1. **User land:** User-level programs and libraries (e.g.: /usr/bin, /usr/lib).\n",
        "1. **Context switch:** A switch from running one thread or process to another. This is a normal\n",
        "function of the kernel CPU scheduler, and involves switching the set of running CPU\n",
        "registers (the thread context) to a new set.\n",
        "1. **Mode switch:** A switch between kernel and user modes.\n",
        "1. **System call (syscall):** A well-defined protocol for user programs to request the kernel to\n",
        "perform privileged operations, including device I/O.\n",
        "1. **Processor:** Not to be confused with process, a processor is a physical chip containing one\n",
        "or more CPUs.\n",
        "1. **Trap:** A signal sent to the kernel to request a system routine (privileged action). Trap types\n",
        "include system calls, processor exceptions, and interrupts.\n",
        "1. **Hardware interrupt:** A signal sent by physical devices to the kernel, usually to request\n",
        "servicing of I/O. An interrupt is a type of trap."
      ],
      "metadata": {
        "id": "a0aiSDiymntW"
      }
    },
    {
      "cell_type": "markdown",
      "source": [
        "## 👑 Linux Filesystem Hierachy Standard (FHS)\n",
        "\n",
        "<img src=\"https://drive.google.com/uc?id=19SBbf-eijcZqvPqigYUKV_A5iNnUC-1q\" align=\"middle\" width=\"500px\"/>\n",
        "\n",
        "| No. | Directory\t| Description |\n",
        "|:--|:--|:--|\n",
        "| 1. | bin | Core operating system commands | \n",
        "| 2. | /boot | Boot loader, kernel, and files needed by the kernel\n",
        "| 3. | /compat | On FreeBSD, files and libraries for Linux binary compatibility\n",
        "| 4. | /dev | Device entries for disks, printers, pseudo-terminals, etc.\n",
        "| 5. | /etc | Critical startup and configuration files\n",
        "| 6. | /home | Default home directories for users\n",
        "| 7. | /lib | Libraries, shared libraries, and commands used by /bin and /sbin\n",
        "| 8. | /media | Mount points for filesystems on removable media\n",
        "| 9. | /mnt | Temporary mount points, mounts for removable media\n",
        "| 10. | /opt | Optional software packages (rarely used, for compatibility)\n",
        "| 11. | /proc | Information about all running processes\n",
        "| 12. | /root | Home directory of the superuser (sometimes just /)\n",
        "| 13. | /run | Rendezvous points for running programs (PIDs, sockets, etc.)\n",
        "| 14. | /sbin | Core operating system commandsa \n",
        "| 15. | /srv | Files held for distribution through web or other servers\n",
        "| 16. | /sys | A plethora of different kernel interfaces (Linux)\n",
        "| 17. | /tmp | Temporary files that may disappear between reboots\n",
        "\n",
        "**🗃 User Directories**\n",
        "\n",
        "| No. | Directory\t| Description |\n",
        "|:--|:--|:--|\n",
        "| 1. | /usr | Hierarchy of secondary files and commands\n",
        "| 2. | /usr/bin | Most commands and executable files\n",
        "| 3. | /usr/include | Header files for compiling C programs\n",
        "| 4. | /usr/lib | Libraries; also, support files for standard programs\n",
        "| 5. | /usr/local | Local software or configuration data; mirrors /usr\n",
        "| 6. | /usr/sbin | Less essential commands for administration and repair\n",
        "| 7. | /usr/share | Items that might be common to multiple systems\n",
        "| 8. | /usr/share/man | On-line manual pages\n",
        "| 9. | /usr/src | Source code for nonlocal software (not widely used)\n",
        "| 10. | /usr/tmp | More temporary space (preserved between reboots)\n",
        "\n",
        "**📂 Variable Directories**\n",
        "\n",
        "| No. | Directory\t| Description |\n",
        "|:--|:--|:--|\n",
        "| 1. | /var | System-specific data and a few configuration files\n",
        "| 2. | /var/adm | Varies: logs, setup records, strange administrative bits\n",
        "| 3. | /var/log | System log files\n",
        "| 4. | /var/run | Same function as /run; now often a symlink\n",
        "| 5. | /var/spool | Spooling (that is, storage) directories for printers, mail, etc.\n",
        "| 6. | /var/tmp | More temporary space (preserved between reboots)"
      ],
      "metadata": {
        "id": "5HGopFVeoIEk"
      }
    },
    {
      "cell_type": "markdown",
      "source": [
        "---\n",
        "## ⚡️ Processes"
      ],
      "metadata": {
        "id": "G8Q7YOyzzQB2"
      }
    },
    {
      "cell_type": "markdown",
      "source": [
        "### 📖 **Introduction**\n",
        "\n",
        "<img src=\"https://drive.google.com/uc?id=1uUcB-YbibkEl-Sazo38PdzXkrO0sApEs\" align=\"middle\" width=\"500px\"/>"
      ],
      "metadata": {
        "id": "Ysx1HW4Fzj1c"
      }
    },
    {
      "cell_type": "markdown",
      "source": [
        "* An instance of an executing program. \n",
        "* When a program is executed, the kernel:\n",
        "    1. Loads the code of the program into virtual memory\n",
        "    2. Allocates space for program variables \n",
        "    3. Sets up kernel bookkeeping data structures to record info about the process (PID, UID, GID, termination status)\n",
        "* Process is logically decided into the following segments:\n",
        "    1. **Text**: instructions of program\n",
        "    2. **Data**: static variables used by program\n",
        "    3. **Heap**: area which programs can dynamically allocate extra memory \n",
        "    4. **Stack**: memory that grows and shrinks as functions are called and return. It also allocated storage for local variables and function call linkage info. \n",
        "  "
      ],
      "metadata": {
        "id": "GFB5J5gazW-_"
      }
    },
    {
      "cell_type": "markdown",
      "source": [
        "### 🥞 **Stack versus Heap**"
      ],
      "metadata": {
        "id": "cnq1yqKJKKQB"
      }
    },
    {
      "cell_type": "markdown",
      "source": [
        "| No. | Parameters | Stack | Heap | \n",
        "|:--|:--|:--|:--|\n",
        "| 1. | Type of data structure |\tA stack is a linear data structure.\t| Heap is a hierarchical data structure. |\n",
        "| 2. | Access speed\t| High-speed access\t| Slower compared to stack |\n",
        "| 3. | Space management | \tSpace managed efficiently by OS so memory will never become fragmented. |\tHeap Space not used as efficiently. <br/> Memory can become fragmented as blocks of memory first allocated and then freed.\n",
        "| 4. | Access | Local variables only |\tIt allows you to access variables globally.\n",
        "| 5. | Limit of space size\t| Limit on stack size dependent on OS. | Does not have a specific limit on memory size.\n",
        "| 6. | Resize\t| Variables cannot be resized\t| Variables can be resized.\n",
        "| 7. | Memory Allocation\t| Memory is allocated in a contiguous block. | Memory is allocated in any random order.\n",
        "| 8. | Allocation and Deallocation | Automatically done by compiler instructions. |\tIt is manually done by the programmer.\n",
        "| 9. | Deallocation |\tDoes not require to de-allocate variables.\t| Explicit de-allocation is needed.\n",
        "| 10. | Implementation |\tA stack can be implemented in 3 ways; arrays, dynamic memory or Linked list.\t| Heap can be implemented using array and trees.\n",
        "| 11. | Main Issue\t| Shortage of memory\t|Memory fragmentation\n",
        "| 12. | Flexibility |\tFixed size\t| Resizing is possible"
      ],
      "metadata": {
        "id": "CNuU64TzKTG4"
      }
    },
    {
      "cell_type": "markdown",
      "source": [
        "<img src=\"https://drive.google.com/uc?id=1XvXtbvNqk1klSwyfWqbbNLJlp3aLLeZx\" align=\"middle\" width=\"500px\"/>"
      ],
      "metadata": {
        "id": "VUAeAKyosj9h"
      }
    },
    {
      "cell_type": "markdown",
      "source": [
        "### 🌱 **Process creation and program execution**"
      ],
      "metadata": {
        "id": "eg0eAeqrzm3j"
      }
    },
    {
      "cell_type": "markdown",
      "source": [
        "1. Parent process executes the `fork()` system call.\n",
        "1. This duplicates the parent process to create a child process. \n",
        "1. Child inherits copies of parent’s data, stack and heap segments (text is shared between both parent and child) \n",
        "1. Child process executes the `exec()` system call to execute an entirely new program. \n",
        "1. `exec()` destroys existing text, data, stack and heap segments, replacing them with new segments based on source code of program. "
      ],
      "metadata": {
        "id": "jKGRoXIYztsa"
      }
    },
    {
      "cell_type": "markdown",
      "source": [
        "### ❌ **Process termination and termination status**"
      ],
      "metadata": {
        "id": "Q7YysELxz7AC"
      }
    },
    {
      "cell_type": "markdown",
      "source": [
        "1. When a child process completed its execution, it will send `SIGCHLD` to its parent. \n",
        "1. Parent process sends a `wait()` system call that reads the child’s exit status. \n",
        "1. After receiving `wait()` system call, the child’s entry is removed from the process table. "
      ],
      "metadata": {
        "id": "3d4BnT_y0D7j"
      }
    },
    {
      "cell_type": "markdown",
      "source": [
        "### **🧟‍♀️ Cause of Zombie Processes**"
      ],
      "metadata": {
        "id": "yRyG4xpH0Tnm"
      }
    },
    {
      "cell_type": "markdown",
      "source": [
        "1. Parent may ignore the SIGCHLD causing finished child processes to still exist in the process table making them zombie processes. \n",
        "1. Dead zombie processes have freed up its resources for others (e.g.: CPU, memory) but if a large number of zombie processes exist, the system will run out of PIDs in the process table. \n",
        "\n",
        "<img src=\"https://drive.google.com/uc?id=1lsnq6pZ4zMeo4_O3-rQjRqoTnUy4IpXi\" align=\"middle\" width=\"500px\"/>"
      ],
      "metadata": {
        "id": "hoAW9MH60ZzM"
      }
    },
    {
      "cell_type": "markdown",
      "source": [
        "### 🧟‍♂️ **Zombie process termination**"
      ],
      "metadata": {
        "id": "aPUZd2ry2DgO"
      }
    },
    {
      "cell_type": "markdown",
      "source": [
        "1. Send a SIGCHLD signal to the parent process of a zombie using: \n",
        "    `kill -s SIGCHLD`\n",
        "2. Parent process sends a `wait()` system call which removes the child zombie process from the process table.\n",
        "3. If zombie processes are not removed, kill its parent process or restart the service using:\n",
        "   `kill -9`\n",
        "4. When parent is killed, all its children will become child process of init process `PID 1`. \n",
        "5. Init process sends a `wait()` system call which removes the child zombie processes. "
      ],
      "metadata": {
        "id": "1xHcvTNE2Jdq"
      }
    },
    {
      "cell_type": "markdown",
      "source": [
        "### 🥇 **Init Process**"
      ],
      "metadata": {
        "id": "7u4ODPwE40Sc"
      }
    },
    {
      "cell_type": "markdown",
      "source": [
        "1. Mother of all processes with `PID 1`. All processes are created by init using `fork()`. \n",
        "2. Its main task is to create and monitor a range of processes required by a running system. "
      ],
      "metadata": {
        "id": "0GgO9cn546Ae"
      }
    },
    {
      "cell_type": "markdown",
      "source": [
        "### 😈 **Daemon Process**"
      ],
      "metadata": {
        "id": "K7ZoFXvP48GX"
      }
    },
    {
      "cell_type": "markdown",
      "source": [
        "A special-purpose process created and handled by the system with the below special characteristics:\n",
        "* **Long lived.** It is often started at system boot and remains in existence until system shuts down. \n",
        "* **Runs in the background and not interactive in terminal.** It has no controlling terminal that reads input or write outputs. \n",
        "* Examples: syslogd - records messages in the system log. httpd - served web pages via HTTP"
      ],
      "metadata": {
        "id": "34bvCQNT5BuI"
      }
    },
    {
      "cell_type": "markdown",
      "source": [
        "### 📂 **/proc**\n",
        "\n",
        "<img src=\"https://drive.google.com/uc?id=19HJsqY20-d2cnK3Hbnm7-CoM01N13Yz8\" align=\"middle\" width=\"500px\"/>"
      ],
      "metadata": {
        "id": "wV6iZQTn9pDV"
      }
    },
    {
      "cell_type": "markdown",
      "source": [
        "**Summary**\n",
        "1. A virtual file system that provides an interface to kernel data structures in a form that looks like files and directories on a file system. \n",
        "    * /proc is said to be virtual because the files and subdirectories within do not reside on disk but are created \"on the fly\" in memory as processes access them.\n",
        "1. Consists of `/proc` files generally in human readable text and parsable by shell scripts. \n",
        "1. Exposes a range of kernel information to application programs. Each `/proc/PID` subdirectory contains files and subdirectories that provide information about the running process whose ID matches PID. \n",
        "1. Various other files and directories under `/proc` expose system-wide information that programs can read and, in some cases, modify.\n",
        "\n",
        "\n",
        "**Per-process files via `/proc/PID`**\n",
        "\n",
        "* Each process on the system is provided a corresponding directory called `/proc/PID` by the kernel. The files and subdirectories within contain information about the process such as:\n",
        "\n",
        "| File |  Description (process attribute) |\n",
        "|:--|:--|\n",
        "|/proc/\\$pid/cmdline| Holds the complete command line for the process\n",
        "|/proc/\\$pid/cwd| Symbolic link to the process' current working directory\n",
        "|/proc/\\$pid/environ| Contains the initial environment that was set when the program started\n",
        "|/proc/\\$pid/exe| Symbolic link to the path of the file that was executed\n",
        "|/proc/\\$pid/fd| Subdirectory for listing files that have been opened by the process\n",
        "|/proc/\\$pid/io| Contains I/O statistics for the process\n",
        "|/proc/\\$pid/limits| Displays the process resource limit\n",
        "|/proc/\\$pid/maps| Currently mapped memory regions and access permissions\n",
        "|/proc/\\$pid/mem| Process virtual memory (must `seek()` to valid offset before I/O)\n",
        "|/proc/\\$pid/mounts|Mount points for this process\n",
        "|/proc/\\$pid/root|Symbolic link to root directory\n",
        "|/proc/\\$pid/status|Various information (e.g., process IDs, credentials, memory usage, signals)\n",
        "|/proc/\\$pid/stack| Trace of function calls in the process' kernel stack\n",
        "|/proc/\\$pid/stat| Status information about the process\n",
        "|/proc/\\$pid/task| Directory that contains thread information\n",
        "\n",
        "**System-wide files via `/proc`**\n",
        "\n",
        "* Various files and subdirectories under `/proc` provide access to system-wide information.\n",
        "\n",
        "| File |  Description (process attribute) |\n",
        "|:--|:--|\n",
        "|/proc/cmdline| Arguments passed to the Linux kernel during boot time\n",
        "|/proc/cpuinfo| CPU-related information\n",
        "|/proc/meminfo| Memory usage statistics\n",
        "|/proc/filesystems| Listing of filesystems supported by the kernel\n",
        "|/proc/modules| Kernel modules that are currently loaded\n",
        "|/proc/partitions| Information about each partition on the system\n",
        "|/proc/swaps| Information about swap space on the system\n",
        "|/proc/self| Directory refers to the process accessing the /proc filesystem\n",
        "|/proc/slabinfo| Information about kernel caches\n",
        "|/proc/sys| Various files and sub-directories about kernel variables\n",
        "\n",
        "\n",
        "\n"
      ],
      "metadata": {
        "id": "NUpq3B1B9s1O"
      }
    },
    {
      "cell_type": "markdown",
      "source": [
        "---\n",
        "### ❓**What is the difference between a system crash and a kernel panic?**"
      ],
      "metadata": {
        "id": "9cns9PK6MDLA"
      }
    },
    {
      "cell_type": "markdown",
      "source": [
        "\n",
        "\n",
        "1. In a `system crash`, the kernel forcefully terminates the process after detecting an abnormal condition such as when the process is trying to access the memory incorrectly. \n",
        "1. In a `kernel panic`, the kernel detects an internal fatal error where it is unable to safely recover or continue running the system without high risk of major data loss due to hardware failure or a software bug."
      ],
      "metadata": {
        "id": "zOcFP4KOMNbp"
      }
    },
    {
      "cell_type": "markdown",
      "source": [
        "---\n",
        "## 🧵 Threads"
      ],
      "metadata": {
        "id": "dTYn6tV89V0N"
      }
    },
    {
      "cell_type": "markdown",
      "source": [
        "1. A set of processes that share the same virtual memory.\n",
        "1. Each process can have multiple threads of execution. \n",
        "1. Each thread executes the same program code and shares the same data area and heap. \n",
        "1. Threads communicate with each other using global variables they share and interprocess communication (signals). \n",
        "1. Makes it easy to share data (global variables) between threads and takes advantage of parallel processing on multiprocessor hardware. "
      ],
      "metadata": {
        "id": "01TrOPQR9ch5"
      }
    },
    {
      "cell_type": "markdown",
      "source": [
        "---\n",
        "### ❓ What is the difference between processes and threads?\n",
        "\n",
        "| No. |\tProcess\t| Thread\n",
        "|:--|:--|:--|\n",
        "|1.|\tProcess means any program in execution.\t|Thread means a segment of a process.\n",
        "|2.|\tThe process takes more time to terminate.|\tThe thread takes less time to terminate.\n",
        "|3.|\tIt takes more time for creation.|\tIt takes less time for creation.\n",
        "|4.|\tIt also takes more time for context switching.|\tIt takes less time for context switching.\n",
        "|5.\t|The process is less efficient in terms of communication.\t|Thread is more efficient in terms of communication.\n",
        "|6.| \tMultiprogramming holds the concepts of multi-process.\t|We don’t need multi programs in action for multiple threads because a single process consists of multiple threads.\n",
        "|7.|\tThe process is isolated.\t|Threads share memory.\n",
        "|8.|\tThe process is called the heavyweight process.|\tA Thread is lightweight as each thread in a process shares code, data, and resources.\n",
        "|9.|\tProcess switching uses an interface in an operating system.\t|Thread switching does not require calling an operating system and causes an interrupt to the kernel.\n",
        "|10.|\tIf one process is blocked then it will not affect the execution of other processes| \tIf a user-level thread is blocked, then all other user-level threads are blocked. \n",
        "|11.|\tThe process has its own Process Control Block, Stack, and Address Space.|\tThread has Parents’ PCB, its own Thread Control Block, and Stack and common Address space.\n",
        "|12.|\tChanges to the parent process do not affect child processes.\t|Since all threads of the same process share address space and other resources so any changes to the main thread may affect the behavior of the other threads of the process."
      ],
      "metadata": {
        "id": "v3pWtYRVyGWU"
      }
    },
    {
      "cell_type": "markdown",
      "source": [
        "---\n",
        "## 📞 System Calls"
      ],
      "metadata": {
        "id": "IZUFNGg096IH"
      }
    },
    {
      "cell_type": "markdown",
      "source": [
        "System call is a routine that allows a user application to request the kernel to perform privileged system operations, including device I/O.\n",
        "\n",
        "|No. | Syscall\t| Function |\n",
        "|:--|:--|:--|\n",
        "| 1. | read\t| read bytes from a file descriptor (file, socket)\n",
        "| 2. | write\t| write bytes from a file descriptor (file, socket)\n",
        "| 3. | open | open a file (returns a file descriptor)\n",
        "| 4. | close\t| close a file descriptor\n",
        "| 5. | fork\t| create a new process (current process is forked)\n",
        "| 6. | exec\t| execute a new program\n",
        "| 7. | connect\t| connect to a network host\n",
        "| 8. | accept\t| accept a network connection\n",
        "| 9. | stat\t| read file statistics\n",
        "| 10. | ioctl\t| set I/O properties, or other miscellaneous functions\n",
        "| 11. | mmap\t| map a file to the process memory address space\n",
        "| 12. | brk\t| extend the heap pointer\n"
      ],
      "metadata": {
        "id": "YtV8fd_TT18Y"
      }
    },
    {
      "cell_type": "markdown",
      "source": [
        "1. A controlled entry point into the kernel allowing a process to request the kernel to perform some action on the process’s behalf. \n",
        "2. System calls changes the processor system from user mode to kernel mode so CPU can access protected kernel memory. \n",
        "\n",
        "<img src=\"https://drive.google.com/uc?id=1T52206noDKOrL3VLf1FP8cM71IYwMJRm\" align=\"middle\" width=\"500px\"/>"
      ],
      "metadata": {
        "id": "XMr7nE7e9_C8"
      }
    },
    {
      "cell_type": "markdown",
      "source": [
        "---\n",
        "### 💡 Overview of `fork()`, `exit()`, `wait()` and `execve()`\n",
        "\n",
        "<img src=\"https://drive.google.com/uc?id=1AsTYDcOG6NhWRrsSjKw7CEauXFV6f0tw\" align=\"middle\" width=\"500px\"/>\n",
        "\n",
        "| Factors for Differentiation\t|fork()| exec()\n",
        "|:--|:--|:--|\n",
        "|Invoking|\t`fork()` creates a new duplicate child process of the process that invoked `fork()`\t|`exec()` replaces a process that invokes it with a new process provided in its parameter.\n",
        "|Process id|\tThe child process and parent process have unique process id. \t|The new process and the replaced process have the same process id.\n",
        "|Execution|\tThe parent and child process start simultaneous execution from the instruction just after `fork()`.\t|The currently running process is terminated and the `exec()` start execution of the new process from its entry point.\n",
        "|Arguments|\tNo arguments are passed to `fork()` system call.\t|Basically, three or more arguments are passed to the `exec()` system call.\n",
        "|Format|\t`Pid=fork();`\t|`exec(cont char *filename, char* const argv[], char* const envp[])`"
      ],
      "metadata": {
        "id": "lh_NCmvXs07W"
      }
    },
    {
      "cell_type": "markdown",
      "source": [
        "### 🍴 `fork()`\n",
        "\n",
        "1. The `fork()` system call allows one process, the parent, to create a new process, the child. \n",
        "1. This is done by making the new child process an (almost) exact duplicate of the parent: the child obtains copies of the parent’s stack, data, heap, and text segments.\n",
        "1. The term fork derives from the fact that we can envisage the parent process as dividing to yield two copies of itself."
      ],
      "metadata": {
        "id": "W6bxj2c4r7kR"
      }
    },
    {
      "cell_type": "markdown",
      "source": [
        "### ⚡ `exec()`\n",
        "\n",
        "1. The `execve(pathname, argv, envp)` system call loads a new program (pathname, with argument list argv, and environment list envp) into a process’s memory. \n",
        "1. The existing program text is discarded, and the stack, data, and heap segments are freshly created for the new program. \n",
        "1. This operation is often referred to as execing a new program. Later, we’ll see that several library functions are layered on top of `execve()`, each of which provides a useful variation in the programming interface. \n",
        "1. Where we don’t care about these interface variations, we follow the common convention of referring to these calls generically as `exec()`, but be aware that there is no system call or library function with this name."
      ],
      "metadata": {
        "id": "zdcxogUWsF4F"
      }
    },
    {
      "cell_type": "markdown",
      "source": [
        "### ✋ `wait()` \n",
        "* The wait system call has two purposes. First, if a child of this process has not yet terminated by calling `exit()`, then `wait()` suspends execution of the process until one of its children has terminated. \n",
        "* Second, the termination status of the child is returned in the status argument of `wait()`.\n",
        "\n",
        "The `wait()` system call waits for one of the children of the calling process to terminate and returns the termination status of that child in the buffer pointed to by status.\n",
        "The `wait()` system call does the following:\n",
        "\n",
        "1. If no (previously unwaited-for) child of the calling process has yet terminated, the call blocks until one of the children terminates. If a child has already terminated by the time of the call, `wait()` returns immediately.\n",
        "\n",
        "2. If status is not NULL, information about how the child terminated is returned in the integer to which status points.\n",
        "\n",
        "3. The kernel adds the process CPU times and resource usage statistics to running totals for all children of this parent process.\n",
        "\n",
        "4. As its function result, `wait()` returns the process ID of the child that has terminated."
      ],
      "metadata": {
        "id": "5jvK0SMlsKHm"
      }
    },
    {
      "cell_type": "markdown",
      "source": [
        "### 🏃 `exit()`\n",
        "1. The exit(status) library function terminates a process, making all resources (memory, open file descriptors, and so on) used by the process available for subsequent reallocation by the kernel. \n",
        "1. The status argument is an integer that determines the termination status for the process. Using the `wait()` system call, the parent can retrieve this status."
      ],
      "metadata": {
        "id": "WyHsn4vWsRec"
      }
    },
    {
      "cell_type": "markdown",
      "source": [
        "### ❓**What exactly happens when you type “ls” into the shell?**"
      ],
      "metadata": {
        "id": "x-eeb6_axW5H"
      }
    },
    {
      "cell_type": "markdown",
      "source": [
        "**Brief Explanation** \n",
        "1. When you run `ls`, the shell searches in its path for an executable named `ls` in /bin/ls\n",
        "1. When it finds it, the shell will forks off a copy of itself using the `fork()` system call. **Note:** System calls involve mode switching from user space to kernel space allowing the `ls` command to request the kernel to perform privileged system operations.\n",
        "1. If the fork succeeds, then in the child process the shell will run `exec /bin/ls` which will replace the copy of the child shell with itself. \n",
        "1. Any parameters that are passed to `ls` are done so by `exec()`\n",
        "\n",
        "**Detailed Explanation**\n",
        "\n",
        "*Step 1: `Find executable binary`*\n",
        "1. The shell reads what you have typed using the `getline()` function and tokenizes the line using the  `strtok()` function.\n",
        "1. It also checks if the first token of `ls` is a Shell `alias` or not. \n",
        "1. If the command is not a built-in (internal) function, the shell will find the `PATH` variable in the directory where it holds the absolute paths for all the executable binary files.\n",
        "\n",
        "*Step 2: `fork()`*\n",
        "1. Once it finds the binary for `ls` located at `/bin/ls`, the program is loaded in memory and a system call `fork()` is made. \n",
        "1. This creates the child process `ls` and the shell will be the parent process. \n",
        "1. `fork()` returns `0` to the child process so it knows it has to act as a child and returns the PID of the child to the parent process (e.g. the shell).\n",
        "\n",
        "*Step 3: `execve()`*\n",
        "1. Next, the `ls` process executes the system call `execve()` that provides a new address space with the program to run.\n",
        "1. Now, `ls` can start running its program. The `ls` utility uses a function to read the directories and files from the disk by consulting the underlying filesystem’s inode entries.\n",
        "\n",
        "*Step 4: `exit()`*\n",
        "1. Once the `ls` process has finished executing, it will perform the `exit()` system call with an integer `0` that denotes a normal execution and the kernel will free up its resources.\n",
        "1. The child process also sends a `SIGCHLD` signal to the parent process to indicate that the child process has ended.\n",
        "1. This saves the exit status of the child process so that the parent process can identify which child process (by process ID) ended and its exit status.\n",
        "\n",
        "\n",
        "*Step 5: `wait()`*\n",
        "1. The parent process receives the `SIGCHLD` signal and reads the exit status of the child process. The parent then performs `wait()` system call which reaps off the child process entry from the process table. This prevents accumulation of any zombie processes in the process table.\n",
        "\n",
        "* Note: you can use `strace ls` to dig deeper into the system calls\n",
        "\n"
      ],
      "metadata": {
        "id": "NkXh9dNXx6ri"
      }
    },
    {
      "cell_type": "markdown",
      "source": [
        "---\n",
        "## 🍿 Kernel Mode versus User Mode\n",
        "\n",
        "<img src=\"https://drive.google.com/uc?id=1CeJn5xFA7m16dDkrMieczhYUhIHu0hYF\" align=\"middle\" width=\"500px\"/>"
      ],
      "metadata": {
        "id": "TMUX6bNbyy4W"
      }
    },
    {
      "cell_type": "markdown",
      "source": [
        "1. In user mode, CPU can access only memory that is marked as user space; attempts to access memory in kernel space result in hardware exception. \n",
        "1. In kernel mode, CPU can access both user and kernel memory space. \n",
        "1. This ensures that user processes are not able to access the instructions and data structures of the kernel, or perform operations that would adversely affect the operation of the system. \n",
        "\n",
        "*User and Kernel Space Flow*\n",
        "1. Every process in linux utilizes its own separate virtual space.\n",
        "1. In a 32-bit architecture Linux system, user space address space corresponds to lower 3GB of virtual space and kernel space the upper 1GB.\n",
        "1. The kernel space virtual address space is shared between all the processes.\n",
        "1. When a process is active, it can either be running in \"user mode\" or \"kernel mode\".\n",
        "1. If a process is running in user mode, it means that the CPU is running the user space side of code.\n",
        "1. A process running in the user mode has limited capability and is controlled by a flag in the CPU.\n",
        "1. Eventhough the kernel memory is present in the process's memory map, the user space code is not allowed to access the kernel space code.\n",
        "1. When a process wants to do something other than move data around in its own (user space) virtual memory (e.g.: opening a file), it must make a system call to communicate with the kernel space.\n",
        "1. Each CPU architecture has it's unique way of making a system call but the basic remains the same (e.g.:\n",
        "A magic instruction is executed, the CPU turns on the \"privileged mode\" flag, and jumps to a special address in kernel space, the \"system call entry point\".)\n",
        "1. Now when the system call has reached the kernel space, the process is running in kernel mode and executes instructions from the kernel space memory.\n",
        "1. Taking the same example of open system call, to find the requested file, the kernel may consult with filesystem drivers (to figure out where the file is) and block device drivers (to load the necessary blocks from disk) or network device drivers and protocols (to load the file from a remote source).\n",
        "1. These drivers can be either built in or can be loaded as module but the key point that remains that they are the part of kernel space.\n",
        "1. Loading a module is done with a system call that asks the kernel to copy the module's code and data into kernel space and run its initialization code in kernel mode.\n",
        "1. If the kernel can't process the request then the process is made to sleep by the kernel and when the request is complete, the system call returns back to the user space.\n",
        "1. Returning back to user mode means restoring the CPU registers to what they were before coming to Kernel Mode and changing the CPU privilege level to non-privilege .\n",
        "1. Apart from system calls, there are other things that take CPU to kernel mode such as: \n",
        "    * **Page faults:** If the process tries to access a virtual memory address that doesn't have a physical address assigned to it then the CPU enters the Kernel mode  and jumps to page fault handler and the kernel sees whether the virtual addresss is valid or not and depending upon this it either tries to create a physical page for the given virtual address or if it can't then sends a segmentation fault signal (SIGSEGV).\n",
        "    * **Interrupts:** When the CPU receives some interrupt from the hardware then it jumps to the kernel mode and executes the interrupt handler and when the kernel is finished handing the interrupt the the code return to the user space where it was executing."
      ],
      "metadata": {
        "id": "f93QVO4By9Ic"
      }
    },
    {
      "cell_type": "markdown",
      "source": [
        "---\n",
        "## 🚦 Signals"
      ],
      "metadata": {
        "id": "oR54KTs85h7z"
      }
    },
    {
      "cell_type": "markdown",
      "source": [
        "### 📖 **Introduction**"
      ],
      "metadata": {
        "id": "QJsbnMpC5n27"
      }
    },
    {
      "cell_type": "markdown",
      "source": [
        "* An interprocess communication. Signals are sent to a process by the kernel, by another process. \n",
        "* Kernel may send a signal to a process when:\n",
        "    1. User typed the interrupt character (CTRL+C) on the keyboard \n",
        "    2. One of the process’s children had terminated \n",
        "    3. A timer set to the process has expired\n",
        "    4. Process attempted to access an invalid memory address "
      ],
      "metadata": {
        "id": "2PCEIiNL5tdL"
      }
    },
    {
      "cell_type": "markdown",
      "source": [
        "| Signal | Value | Action | Comment |\n",
        "|:--|:--|:--|:--|\n",
        "| SIGHUP   |     1  |     Term  |  Hangup detected on controlling terminal or death of controlling process |\n",
        "| SIGINT    |    2    |   Term  |  Interrupt from keyboard |\n",
        "| SIGQUIT   |    3     |  Core  |  Quit from keyboard |\n",
        "| SIGILL     |   4     |  Core  |  Illegal Instruction |\n",
        "| SIGABRT     |  6   |    Core  |  Abort signal from abort(3) |\n",
        "| SIGFPE     |   8    |   Core   | Floating-point exception \n",
        "| SIGKILL  |     9     |  Term   | Kill signal\n",
        "| SIGSEGV   |   11   |    Core  |  Invalid memory reference\n",
        "| SIGPIPE   |   13   |    Term  |  Broken pipe: write to pipe with no readers; see pipe(7)\n",
        "| SIGALRM  |    14   |    Term  |  Timer signal from alarm(2)\n",
        "| SIGTERM  |    15    |   Term  |  Termination signal\n",
        "| SIGUSR1  | 30,10,16  |  Term  |  User-defined signal 1\n",
        "| SIGUSR2  | 31,12,17  |  Term  |  User-defined signal 2\n",
        "| SIGCHLD  | 20,17,18 |   Ign   |  Child stopped or terminated\n",
        "| SIGCONT  | 19,18,25  |  Cont   | Continue if stopped\n",
        "| SIGSTOP   | 17,19,23  |  Stop  |  Stop process\n",
        "| SIGTSTP  | 18,20,24  |  Stop  |  Stop typed at terminal\n",
        "| SIGTTIN  | 21,21,26  |  Stop  |  Terminal input for background process\n",
        "| SIGTTOU |  22,22,27 |    Stop |  Terminal output for background process\n",
        "\n",
        "**Quick Reference**\n",
        "\n",
        "|Name |Command |\n",
        "|:--|:--|\n",
        "|kill -l|\tList all signals|\n",
        "|Critical signals|\tThe signals SIGKILL and SIGSTOP cannot be caught, blocked, or ignored.|\n",
        "|SIGKILL, SIGTERM|\tSend kill signal to a given process. kill -term \\$pid, kill -9 \\$pid|\n",
        "|SIGHUP|\tReload or restart a process. kill -HUP $pid|\n",
        "|SIGINT|\tInterrupt a process|\n",
        "|SIGCHILD|\tWhen a child process terminates, instruct OS to cleanup the resource|\n",
        "|SIGSTOP|\tSuspend a process|\n",
        "|SIGALRM|\tRaised when a time interval specified in a call to the alarm or alarmd function expires|\n",
        "|SIGUSR1, SIGUSR2|\tUser defined signals|\n",
        "|SIGSTOP vs SIGTSTP|\tSIGSTOP can’t be ignored by the targetted process, but SIGTSTP can|\n",
        "|What happens, when pressing Ctrl-C|\tKernal translates the ASCII character(^C) to SIGINT signal|\n"
      ],
      "metadata": {
        "id": "cWMvfK2v6A1e"
      }
    },
    {
      "cell_type": "markdown",
      "source": [
        "### 🚨 **SIGTERM 15**"
      ],
      "metadata": {
        "id": "iLvNSUsm8DeS"
      }
    },
    {
      "cell_type": "markdown",
      "source": [
        "1. SIGTERM signal is safest way to kill the process. \n",
        "1. It instructs the process to terminate and gives the programs or services time to wrap things up before be shutdown such as writing to log files or closing opened connections that were created by the process."
      ],
      "metadata": {
        "id": "6KyZcNzk8G-I"
      }
    },
    {
      "cell_type": "markdown",
      "source": [
        "### 🚨 **SIGKILL 9**"
      ],
      "metadata": {
        "id": "2B-KHArC8Kj4"
      }
    },
    {
      "cell_type": "markdown",
      "source": [
        "1. SIGKILL signal is an unsafe way for killing a process because it ends process without saving anything.\n",
        "1. This signal is sent by a process in order to terminate the receiving process immediately. \n",
        "1. This means that the termination is abnormal and not graceful. \n",
        "1. This signal is used in cases where a process hangs or is to be terminated immediately. \n",
        "1. For example, this signal is used by OS kernel sometimes when the system is shutdown.\n",
        "1. If the process is hung badly, this option will force it to stop, but the child processes orphan and later convert to zombies."
      ],
      "metadata": {
        "id": "uzNlizNd8O7A"
      }
    },
    {
      "cell_type": "markdown",
      "source": [
        "### 🚨 **SIGSTOP 23**"
      ],
      "metadata": {
        "id": "sPUzewXk9Cil"
      }
    },
    {
      "cell_type": "markdown",
      "source": [
        "1. Sent by a process in order to halt a program so that it can be debugged. \n",
        "1. Suppose if the programs were given the capability of handling this signal and a program accidentally chooses to ignore this signal, then that program cannot be debugged ever."
      ],
      "metadata": {
        "id": "YO_3TUnB9E8A"
      }
    },
    {
      "cell_type": "markdown",
      "source": [
        "### 🚨 **SIGCHLD 18**"
      ],
      "metadata": {
        "id": "2fots5s-YDpl"
      }
    },
    {
      "cell_type": "markdown",
      "source": [
        "When a child process created by a parent process ends, the child:\n",
        "1. Sends a SIGCHLD signal to the parent process to indicate that the child process has ended\n",
        "1. Saves the exit status of the child process so that the parent process can identify which child process (by process ID) ended and its exit status."
      ],
      "metadata": {
        "id": "yFwd8enkYL5H"
      }
    },
    {
      "cell_type": "markdown",
      "source": [
        "### 🚨 **SIGHUP 1**"
      ],
      "metadata": {
        "id": "oQw8JAtEwd37"
      }
    },
    {
      "cell_type": "markdown",
      "source": [
        "1. This signal restarts the process. \n",
        "1. After a restart, the process will have exactly the same PID that it had before. \n",
        "1. This is a very useful option for restarting a service, such as a website, for which an end user made changes to a configuration file."
      ],
      "metadata": {
        "id": "AdZtz4cNwboo"
      }
    },
    {
      "cell_type": "markdown",
      "source": [
        "### 🚨 **SIGINT 2**"
      ],
      "metadata": {
        "id": "17AOp2ztxFup"
      }
    },
    {
      "cell_type": "markdown",
      "source": [
        "1. This signal interruipts the process. \n",
        "1. This signal sends a CTRL-C key sequence to the process."
      ],
      "metadata": {
        "id": "X5DJn1cFxCSI"
      }
    },
    {
      "cell_type": "markdown",
      "source": [
        "---\n",
        "### 🛑 **Interrupts** "
      ],
      "metadata": {
        "id": "cuigFfljzuOW"
      }
    },
    {
      "cell_type": "markdown",
      "source": [
        "1. An interrupt is an event that alters the normal execution flow of a program and can be generated by hardware devices or even by the CPU itself. \n",
        "1. When an interrupt occurs the current flow of execution is suspended and interrupt handler runs. \n",
        "1. After the interrupt handler runs the previous execution flow is resumed.\n",
        "\n",
        "1. Interrupts can be grouped into two categories based on the source of the interrupt. \n",
        "    * **Synchronous:** Generated by executing an instruction. Synchronous interrupts, usually named exceptions, handle conditions detected by the processor itself in the course of executing an instruction. Divide by zero or a system call are examples of exceptions.\n",
        "\n",
        "    * **Asynchronous:** Generated by an external event. Asynchronous interrupts, usually named interrupts, are external events generated by I/O devices. For example a network card generates an interrupts to signal that a packet has arrived.\n",
        "1. Most interrupts are maskable, which means we can temporarily postpone running the interrupt handler when we disable the interrupt until the time the interrupt is re-enabled. However, there are a few critical interrupts that can not be disabled/postponed.\n"
      ],
      "metadata": {
        "id": "AfPCQ4Tuz2PB"
      }
    },
    {
      "cell_type": "markdown",
      "source": [
        "---\n",
        "## 🗂 Linux File Systems"
      ],
      "metadata": {
        "id": "i8q2qn6b9kQU"
      }
    },
    {
      "cell_type": "markdown",
      "source": [
        "---\n",
        "### 💾 Mount Points\n",
        "\n",
        "<img src=\"https://drive.google.com/uc?id=1M_n4Ke1mnsdCGavEHfO6-mfbfQoigw88\" align=\"middle\" width=\"500px\"/>\n",
        "\n",
        "1. A mount point is simply a directory, like any other, that is created as part of the root filesystem. \n",
        "    * For example, the home filesystem is mounted on the directory /home. \n",
        "1. The Linux root filesystem is mounted on the root directory (/) very early in the boot sequence. \n",
        "1. Other filesystems are mounted later, by the Linux startup programs, either rc under SystemV or by systemd in newer Linux releases. \n",
        "1. Mounting of filesystems during the startup process is managed by the `/etc/fstab` configuration file. \n",
        "1. An easy way to remember that is that fstab stands for \"file system table,\" and it is a list of filesystems that are to be mounted, their designated mount points, and any options that might be needed for specific filesystems.\n",
        "\n",
        "---\n",
        "### ⚡ mount command\n",
        "1. Filesystems are mounted on an existing directory/mount point using the `mount` command. \n",
        "1. In general, any directory that is used as a mount point should be empty and not have any other files contained in it. \n",
        "\n",
        "`$ mount device directory`\n",
        "\n",
        ">* This command attaches the file system on the named device into the `directory` hierarchy at the specified directory—the file system’s mount point.\n",
        ">* It is possible to change the location at which a file system is mounted—the file system is unmounted using the umount command, and then mounted once more at a different point."
      ],
      "metadata": {
        "id": "VeDzYUur3Fq8"
      }
    },
    {
      "cell_type": "markdown",
      "source": [
        "---\n",
        "### 🗃 Logical Volume Manager\n",
        "\n",
        "* A device mapper framework that provides logical volume management for the Linux kernel. \n",
        "* It is mainly used to create single logical volumes of multiple physical volumes or entire hard disks allowing for dynamic volume resizing.\n",
        "\n",
        "\n",
        "<img src=\"https://drive.google.com/uc?id=1F10EynD_6K9H0NiDIXP1m0WDj1ENViX-\" align=\"middle\" width=\"500px\"/>\n",
        "\n",
        "<img src=\"https://drive.google.com/uc?id=19uBk_mpFYLJoP-6xq-os4-56pHK68MBK\" align=\"middle\" width=\"500px\"/>\n",
        "\n",
        "1. Volume groups (VGs) can be resized online by absorbing new physical volumes (PVs) or ejecting existing ones.\n",
        "1. Logical volumes (LVs) can be resized online by concatenating extents onto them or truncating extents from them.\n",
        "1. LVs can be moved between PVs."
      ],
      "metadata": {
        "id": "qjPELTSVTbYN"
      }
    },
    {
      "cell_type": "markdown",
      "source": [
        "---\n",
        "### ☁ Virtual File System\n",
        "\n",
        "<img src=\"https://drive.google.com/uc?id=1c0ig-zWbVTWiQHItfDyGGZTTyksk26Wv\" align=\"middle\" width=\"500px\"/>\n",
        "\n",
        "1. Defines a generic interface for file-system operations and provides a single set of commands for the kernel, and developers, to access all types of filesystems. \n",
        "    * The virtual filesystem software calls the specific device driver required to interface to the various types of filesystems. \n",
        "    * All programs that work with files specify their operations in terms of this generic interface. \n",
        "    * Each file system provides an implementation for the VFS interface.\n",
        "1. Under this scheme, programs need to understand only the VFS interface and can ignore details of individual file-system implementations.\n",
        "1. The VFS interface includes operations corresponding to all of the usual system calls for working with file systems and directories, such as `open()`, `read()`, `write()`, `lseek()`, `close()`, `truncate()`, `stat()`, `mount()`, `umount()`, `mmap()`, `mkdir()`, `link()`, `unlink()`, `symlink()`, and `rename()`.\n",
        "1. The VFS abstraction layer is closely modeled on the traditional UNIX file-system model. \n",
        "\n",
        "### 💿 Filesystem-specific Device Drivers\n",
        "1. Interprets the standard set of filesystem commands to ones specific to the type of filesystem on the partition or logical volume.\n",
        "\n",
        "\n"
      ],
      "metadata": {
        "id": "fGQvDn8ilU-t"
      }
    },
    {
      "cell_type": "markdown",
      "source": [
        "---\n",
        "### 🗄 Filesystem Types\n",
        "1. Linux supports reading around 100 partition types; it can create and write to only a few of these. \n",
        "1. In this context we are talking about filesystems in terms of the structures and metadata required to store and manage the user data on a partition of a hard drive or a logical volume. \n",
        "1. The complete list of filesystem partition types recognized by the Linux can be listed using the `fdisk` command.\n",
        "1. The main purpose in supporting the ability to read so many partition types is to allow for compatibility and at least some interoperability with other computer system's filesystems. \n",
        "1. Filesystem examples with Fedora distro:\n",
        "    * cramfs\n",
        "    * ext2\n",
        "    * fat\n",
        "    * vfat\n",
        "    * ntfs\n",
        "    * gfs2\n",
        "    * hfsplus\n",
        "    * minix\n",
        "    * msdos\n",
        "\n",
        "  Journaling File Systems:\n",
        "    * reiserfs\n",
        "    * ext3\n",
        "    * ext4\n",
        "    * btrfs\n",
        "    * xfs"
      ],
      "metadata": {
        "id": "1YagOhzi5-od"
      }
    },
    {
      "cell_type": "markdown",
      "source": [
        "---\n",
        "### 📖 Journaling File Systems\n",
        "\n",
        "**Disadvantages of a traditional UNIX file system**\n",
        "* The ext2 file system is a good example of a traditional UNIX file system, and suffers from a classic limitation of such file systems:\n",
        "    1. After a system crash, a file-system consistency check ( fsck) must be performed on reboot in order to ensure the integrity of the file system. \n",
        "    1. This is necessary because, at the time of the system crash, a file update may have been only partially completed, and the file-system metadata (directory entries, i-node information, and file data block pointers) may be in an inconsistent state, so that the file system might be further damaged if these inconsistencies are not repaired. \n",
        "    1. A file-system consistency check ensures the consistency of the file-system metadata. Where possible, repairs are performed; otherwise, information that is not retrievable (possibly including file data) is discarded.\n",
        "* The problem is that a consistency check requires examining the entire file system. \n",
        "    * On a small file system, this may take anything from several seconds to a few minutes. \n",
        "    * On a large file system, this may require several hours, which is a serious problem for systems that must maintain high availability (e.g., network servers).\n",
        "\n",
        "**Advantages of a journaling file system**\n",
        "* Journaling file systems eliminate the need for lengthy file-system consistency checks after a system crash. \n",
        "    1. A journaling file system logs (journals) all metadata updates to a special on-disk journal file before they are actually carried out. \n",
        "    1. The updates are logged in groups of related metadata updates (transactions). \n",
        "    1. In the event of a system crash in the middle of a transaction, on system reboot, the log can be used to rapidly redo any incomplete updates and bring the file system back to a consistent state. (To borrow database parlance, we can say that a journaling file system ensures that file metadata transactions are always committed as a complete unit.) \n",
        "    1. Even very large journaling file systems can typically be available within seconds after a system crash, making them very attractive for systems with highavailability requirements.\n",
        "* The most notable disadvantage of journaling is that it adds time to file updates, though good design can make this overhead low."
      ],
      "metadata": {
        "id": "C-uqq32FATNe"
      }
    },
    {
      "cell_type": "markdown",
      "source": [
        "---\n",
        "### 📔 Filesystem Structure\n",
        "\n",
        "<img src=\"https://drive.google.com/uc?id=1zJF53hz1sCYQMwjMxx5eNq7h6Wp-MtxD\" align=\"middle\" width=\"500px\"/>\n",
        "\n",
        "A file system contains the following parts:\n",
        "1. **Boot block** \n",
        "    * This is always the first block in a file system. The boot block is not used by the file system; rather, it contains information used to boot the operating system. \n",
        "    * Although only one boot block is needed by the operating system, all file systems have a boot block (most of which are unused).\n",
        "1. **Superblock**\n",
        "    * This is a single block, immediately following the boot block, which contains parameter information about the file system, including:\n",
        "        1. the size of the i-node table;\n",
        "        1. the size of logical blocks in this file system; and\n",
        "        1. the size of the file system in logical blocks.\n",
        "    * Different file systems residing on the same physical device can be of different types and sizes, and have different parameter settings (e.g., block size). \n",
        "    * This is one of the reasons for splitting a disk into multiple partitions.\n",
        "1. **I-node table** \n",
        "    * Each file or directory in the file system has a unique entry in the i-node table. \n",
        "    * This entry records various information about the file. \n",
        "    * The i-node table is sometimes also called the i-list.\n",
        "1. **Data blocks**\n",
        "    * The great majority of space in a file system is used for the blocks of data that form the files and directories residing in the file system."
      ],
      "metadata": {
        "id": "RoQS9Dy89cBt"
      }
    },
    {
      "cell_type": "markdown",
      "source": [
        "---\n",
        "## 🗃 File Structures"
      ],
      "metadata": {
        "id": "VSTovm0_-Fo6"
      }
    },
    {
      "cell_type": "markdown",
      "source": [
        "### 🔏 **File Permissions**\n",
        "\n",
        "<img src=\"https://drive.google.com/uc?id=1iC_w-744cH91tMcyWTBtjTLvsKgPgpQ0\" align=\"middle\" width=\"250px\"/>\n",
        "\n",
        "\n",
        "\n",
        "\n"
      ],
      "metadata": {
        "id": "7YWYCrOOvCnP"
      }
    },
    {
      "cell_type": "markdown",
      "source": [
        "1. `chown`\n",
        "1. `chmod`\n",
        "1. `chattr`\n",
        "1. `umask`\n",
        "1. `getfacl`\n",
        "1. `setfacl`"
      ],
      "metadata": {
        "id": "qBm4dwaXQWoE"
      }
    },
    {
      "cell_type": "markdown",
      "source": [
        "---\n",
        "### 🥎 **Soft Link Files**\n",
        "1. In Linux, a soft link, also known as a symbolic link, is a special sort of file that points at a different file. \n",
        "    * In Windows vocabulary, you could think of it like a shortcut. \n",
        "1. Because the connection is a logical one, and not a duplication, soft links can point at entire directories or link to files on remote computers. Hard links cannot do this.\n",
        "1. Soft link files do not share the same inode hence they can be created and referenced between two different filesystems.\n",
        "1. Symbolic links are created using `ln -s` and removed using `rm`.\n",
        "```yaml\n",
        "$ sudo ln -s archived/secure /var/data/secure\n",
        "# links /var/data/secure to /var/data/archived/secure with a relative path. \n",
        "# It creates the symbolic link /var/data/secure with a target of archived/secure, as demonstrated by this output from ls:\n",
        "$ ls -l /var/data/secure \n",
        "lrwxrwxrwx 1 root root 18 Aug 3 12:54 /var/data/secure -> archived/secure\n",
        "```\n",
        "\n",
        "### 🧱 **Hard Link Files**\n",
        "1. In Linux, a hard link is equivalent to a file stored in the hard drive – and it actually references or points to a spot on a hard drive. \n",
        "1. A hard link is a mirror copy of the original file. The distinguishing characteristic of a hard link from a soft link is that deleting the original file doesn't affect a hard link, while it renders a soft link inoperable.\n",
        "1. Hard link files share the same inode hence they cannot be created in two different filesystems. \n",
        "1. Hard links are created using `ln` and removed using `rm`."
      ],
      "metadata": {
        "id": "9RPIKrHywH_J"
      }
    },
    {
      "cell_type": "markdown",
      "source": [
        "### **❓ What is the difference between soft link and hard link ?**\n",
        "1. Hard link shares the same inode number as the source while the soft link uses a different inode number.\n",
        "1. As a result, if the source file is moved, the soft link will be broken but hard link will still working fine.\n",
        "1. The hard link is only valid on the same filesystem while soft link is not."
      ],
      "metadata": {
        "id": "rV3QG0jtWl4d"
      }
    },
    {
      "cell_type": "markdown",
      "source": [
        "### 📛 **File Descriptors**\n",
        "\n",
        "<img src=\"https://drive.google.com/uc?id=1f6YnnwLBDXqCShQ_SRjyFYtXSOBpCjBE\" align=\"middle\" width=\"500px\"/>\n",
        "\n",
        "When a process is created, the file consist of a file pointer array where the first three bits correspond to `0: standard input stream (stdin)`, `1: standard output stream (stdout)`, and `2: standard error stream (stderr)`."
      ],
      "metadata": {
        "id": "87tuPOV3DAgx"
      }
    },
    {
      "cell_type": "markdown",
      "source": [
        "1. A file descriptor is a reference (also called a handle) used by the kernel to access a file. \n",
        "1. A file descriptor table is created for all process and tracks all files opened by the process. \n",
        "1. A unique index number (file descriptor number) is assigned to a file when it is opened by a process.\n",
        "1. When a process is created, the file descriptor numbers 0, 1, and 2 are reserved for the stdin, stdout, and stderr devices, respectively:\n",
        "    * `fd0`: Standard input device (stdin).\n",
        "    * `fd1`: Standard output device (stdout).\n",
        "    * `fd2`: Standard error device (stderr).\n",
        "    * `fd255`: The bash file descriptor 255 keeps track of controlling terminal information."
      ],
      "metadata": {
        "id": "koKw3_8cDBwe"
      }
    },
    {
      "cell_type": "markdown",
      "source": [
        "---\n",
        "### 📚 **Inodes**"
      ],
      "metadata": {
        "id": "KOcpPICS-PAl"
      }
    },
    {
      "cell_type": "markdown",
      "source": [
        "<img src=\"https://drive.google.com/uc?id=12w9YXlsEnUu7yq-SWJf4X6U7xBGFMNsL\" align=\"middle\" width=\"600px\"/>\n",
        "\n",
        "1. A data structure storing the properties of a file or directory. \n",
        "2. The following information is stored in inode:\n",
        "    * **File type**: regular file, directory, pipe etc.\n",
        "    * **Permissions** to that file: read, write, execute\n",
        "    * **Link count**: The number of hard link relative to an inode\n",
        "    * **User ID**: owner of file\n",
        "    * **Group ID**: group owner\n",
        "    * **Size of file**: or major/minor number in case of some special files\n",
        "    * **Time stamp**: access time, modification time and (inode) change time\n",
        "    * **Attributes**: immutable' for example\n",
        "    * **Access control list**: permissions for special users/groups\n",
        "    * Link to location of file\n",
        "    * Other metadata about the file\n",
        "3. `ls command` is used to list file and directories information. The `-i` option with ls displays the inode number of each file. First column gives the inode number. "
      ],
      "metadata": {
        "id": "5a-dkjvO-W5-"
      }
    },
    {
      "cell_type": "markdown",
      "source": [
        "---\n",
        "### **❓What is an inode?** \n",
        "1. An inode is a data structure in Unix that contains metadata about a file. \n",
        "1. These following inode attributes which may be retrieved by the stat system call:\n",
        "    * mode\n",
        "    * owner (UID, GID)\n",
        "    * size\n",
        "    * atime, ctime, mtime\n",
        "    * acls\n",
        "    * blocks list of where the data is\n",
        "\n",
        "* Note: The filename is present in the parent directory’s structure, not in the inode.\n",
        "\n"
      ],
      "metadata": {
        "id": "T6BGi3c5XBqD"
      }
    },
    {
      "cell_type": "markdown",
      "source": [
        "### **❓How do you delete a file with special characters?**\n",
        "1. `ls -i` to list the inode number of file with special characters (e.g.: `\"ab*`)\n",
        "```bash\n",
        ">> 1448239 \"ab*\n",
        "```\n",
        "1. Then, run `find . -inum 1448239 -exec rm -i {} \\`\n",
        "    * We used the `find` command to specify the Inode number of the file to delete"
      ],
      "metadata": {
        "id": "yx5Ctn_sw5y4"
      }
    },
    {
      "cell_type": "markdown",
      "source": [
        "---\n",
        "## 🧠 Memory"
      ],
      "metadata": {
        "id": "dO5wxB_jApM8"
      }
    },
    {
      "cell_type": "markdown",
      "source": [
        "### 💾 **Virtual memory versus swap space**"
      ],
      "metadata": {
        "id": "YM0SmhFjAvkC"
      }
    },
    {
      "cell_type": "markdown",
      "source": [
        "<img src=\"https://drive.google.com/uc?id=15kd6Anqa-CH2qfWfs2pwlI4xLRlWrrVI\" align=\"middle\" width=\"700px\"/>\n",
        "\n",
        "<img src=\"https://drive.google.com/uc?id=1vL_K7O_vkI2m_Ue3s1SAMmt27vxf8jcP\" align=\"middle\" width=\"750px\"/>"
      ],
      "metadata": {
        "id": "eGkmWk0tA4Zw"
      }
    },
    {
      "cell_type": "markdown",
      "source": [
        "---\n",
        "### ❓[**What is a load average?**](https://www.brendangregg.com/blog/2017-08-08/linux-load-averages.html)"
      ],
      "metadata": {
        "id": "5Vm8CTy7J19T"
      }
    },
    {
      "cell_type": "markdown",
      "source": [
        "1. The load average is an average number of threads over a time period (last 1, 5, 15 mins) that “compete for CPU” on classic unixes or “either compete for CPU or wait in an uninterruptible sleep state” on Linux\n",
        "1. They indicate the number of tasks (threads) from processes wanting to run.\n",
        "1. This measures demand, which can be greater than what the system is currently processing. \n",
        "1. Most tools show three averages, for 1, 5, and 15 minutes:\n",
        "\n",
        "```bash\n",
        "$ uptime\n",
        " 16:48:24 up  4:11,  1 user,  load average: 25.25, 23.40, 23.46\n",
        "top - 16:48:42 up  4:12,  1 user,  load average: 25.25, 23.14, 23.37\n",
        "$ cat /proc/loadavg \n",
        "25.72 23.19 23.35 42/3411 43603\n",
        "```\n",
        "\n",
        "**Some interpretations:**\n",
        "* If the averages are 0.0, then your system is idle.\n",
        "* If the 1 minute average is higher than the 5 or 15 minute averages, then load is increasing.\n",
        "* If the 1 minute average is lower than the 5 or 15 minute averages, then load is decreasing.\n",
        "* If they are higher than your CPU count, then you might have a performance problem (it depends)."
      ],
      "metadata": {
        "id": "gSGGaAXpJ9JJ"
      }
    },
    {
      "cell_type": "markdown",
      "source": [
        "---\n",
        "## 🪵 Logs"
      ],
      "metadata": {
        "id": "0LUINEY_ae8s"
      }
    },
    {
      "cell_type": "markdown",
      "source": [
        "### 🗃 Type of log files\n",
        "\n",
        "<img src=\"https://drive.google.com/uc?id=1kkDGvuyL6xE87_LAjoOWGQv3gM-WTbrd\" align=\"middle\" width=\"500px\"/>"
      ],
      "metadata": {
        "id": "Oz5juVO2aeCM"
      }
    },
    {
      "cell_type": "markdown",
      "source": [
        "### ♻ Regular Expressions\n",
        "\n",
        "<img src=\"https://drive.google.com/uc?id=1ogXJqcCrcX2cjzQ0gepi304eU2gaTjJ8\" align=\"middle\" width=\"500px\"/>"
      ],
      "metadata": {
        "id": "Wmaaid_XbVoH"
      }
    },
    {
      "cell_type": "markdown",
      "source": [
        "---\n",
        "# [🛠 Linux Troubleshooting](https://linkedin.github.io/school-of-sre/level102/system_troubleshooting_and_performance/troubleshooting/)\n",
        "\n",
        "<img src=\"https://drive.google.com/uc?id=1FHMyBUV4AP0VE3Z7p-tuSSaNxa4xHS2J\" align=\"middle\" width=\"500px\"/>"
      ],
      "metadata": {
        "id": "ZYRl7y1txLkt"
      }
    },
    {
      "cell_type": "markdown",
      "source": [
        "## 💿 Disk Management"
      ],
      "metadata": {
        "id": "MQpAPo5SyTGE"
      }
    },
    {
      "cell_type": "markdown",
      "source": [
        "### ❓**What to do when a Linux system is running out of available inodes?**"
      ],
      "metadata": {
        "id": "0mCq-WAyxra3"
      }
    },
    {
      "cell_type": "markdown",
      "source": [
        "1. If there are free available storage but the error *“no space left on device”* keeps showing, this is due to inode saturation where there is insufficient space left in the inode table. \n",
        "1. Determine where all your inodes are being spent. Often they’re being consumed by millions of small files created by a misconfigured system\n",
        "1. Run the following command to identify the directory and system that’s using all your inodes: \n",
        "`du --inodes -d 3 /  | sort -n | tail`\n",
        "1. Or start cleaning out unexpected files (e.g.: ton of cache files)\n",
        "1. Or reformat the disk and assign more of the disk to maintain the inodes table"
      ],
      "metadata": {
        "id": "XeFqBn-yxz-b"
      }
    },
    {
      "cell_type": "markdown",
      "source": [
        "### ❓ **How to troubleshoot \"filesystem is full\" error message when there is free space in `df`?**"
      ],
      "metadata": {
        "id": "DqTGn7S2QWEg"
      }
    },
    {
      "cell_type": "markdown",
      "source": [
        "1. Use `df -i` to see if there are zero IFree. \n",
        "1. Otherwise, check if the deleted files are still in use using `lsof` and restart those processes.\n"
      ],
      "metadata": {
        "id": "M-ev93oRQolj"
      }
    },
    {
      "cell_type": "markdown",
      "source": [
        "---\n",
        "## ⚡ Processes"
      ],
      "metadata": {
        "id": "kVsfNPOSFrmF"
      }
    },
    {
      "cell_type": "markdown",
      "source": [
        "### **❓How do you troubleshoot a Linux instance if none of the external commands work?**"
      ],
      "metadata": {
        "id": "gga7-vVx9Brl"
      }
    },
    {
      "cell_type": "markdown",
      "source": [
        "1. Use `help` to display a list of all the built-in commands in shell.\n",
        "1. Referring to the `/proc` table below, use `read $(</proc/${PID}/${procInformation})` to obtain information on a specific process.  \n",
        "\n",
        "**Per-process files via `/proc/PID`**\n",
        "\n",
        "* Each process on the system is provided a corresponding directory called `/proc/PID` by the kernel. The files and subdirectories within contain information about the process such as:\n",
        "\n",
        "| File |  Description (process attribute) |\n",
        "|:--|:--|\n",
        "|/proc/\\$pid/cmdline| Holds the complete command line for the process\n",
        "|/proc/\\$pid/cwd| Symbolic link to the process' current working directory\n",
        "|/proc/\\$pid/environ| Contains the initial environment that was set when the program started\n",
        "|/proc/\\$pid/exe| Symbolic link to the path of the file that was executed\n",
        "|/proc/\\$pid/fd| Subdirectory for listing files that have been opened by the process\n",
        "|/proc/\\$pid/io| Contains I/O statistics for the process\n",
        "|/proc/\\$pid/limits| Displays the process resource limit\n",
        "|/proc/\\$pid/maps| Currently mapped memory regions and access permissions\n",
        "|/proc/\\$pid/mem| Process virtual memory (must `seek()` to valid offset before I/O)\n",
        "|/proc/\\$pid/mounts|Mount points for this process\n",
        "|/proc/\\$pid/root|Symbolic link to root directory\n",
        "|/proc/\\$pid/status|Various information (e.g., process IDs, credentials, memory usage, signals)\n",
        "|/proc/\\$pid/stack| Trace of function calls in the process' kernel stack\n",
        "|/proc/\\$pid/stat| Status information about the process\n",
        "|/proc/\\$pid/task| Directory that contains thread information\n",
        "\n",
        "**System-wide files via `/proc`**\n",
        "\n",
        "* Various files and subdirectories under `/proc` provide access to system-wide information.\n",
        "\n",
        "| File |  Description (process attribute) |\n",
        "|:--|:--|\n",
        "|/proc/cmdline| Arguments passed to the Linux kernel during boot time\n",
        "|/proc/cpuinfo| CPU-related information\n",
        "|/proc/meminfo| Memory usage statistics\n",
        "|/proc/filesystems| Listing of filesystems supported by the kernel\n",
        "|/proc/modules| Kernel modules that are currently loaded\n",
        "|/proc/partitions| Information about each partition on the system\n",
        "|/proc/swaps| Information about swap space on the system\n",
        "|/proc/self| Directory refers to the process accessing the /proc filesystem\n",
        "|/proc/slabinfo| Information about kernel caches\n",
        "|/proc/sys| Various files and sub-directories about kernel variables\n",
        "\n",
        "3. If there are too many files opened and all resources are exhausted, use the below command to display all processes with all their associated file descriptors (fd):\n",
        "```bash\n",
        "$ for fd in /proc/[0-9]*/fd/*; do echo $fd; done\n",
        "/proc/1/fd/0\n",
        "/proc/1/fd/1\n",
        "/proc/1/fd/2\n",
        "/proc/1/fd/255\n",
        "/proc/1/fd/3\n",
        "```\n",
        "\n",
        "4. To see the last comand ran on the system without using `cat`, use `read $(</proc/${PID}/cmdline)`"
      ],
      "metadata": {
        "id": "395r0VVj9Mxc"
      }
    },
    {
      "cell_type": "markdown",
      "source": [
        "### ❓**How to find configuration files related to a process?**"
      ],
      "metadata": {
        "id": "b5_oYq6LCYxU"
      }
    },
    {
      "cell_type": "markdown",
      "source": [
        "* Use `lsof -p ${PID}` to list files opened by the process."
      ],
      "metadata": {
        "id": "v32vEM87Clkf"
      }
    },
    {
      "cell_type": "markdown",
      "source": [
        "### ❓ [**How do you troubleshoot “fork failed: Resource temporarily unavailable”?**](https://access.redhat.com/solutions/22105)"
      ],
      "metadata": {
        "id": "ykvVi2jYgyRo"
      }
    },
    {
      "cell_type": "markdown",
      "source": [
        "1. This means the operating system has limited your ability to `fork` stopping you from creating new threads or processes.\n",
        "1. This issue can occur when the `ulimit` settings have been set too low or the maximum number of processes has been reached preventing new child processes from spawning.\n",
        "    * The max value of processes can be found in `/proc/sys/kernel/pid_max`\n",
        "1. To resolve this, you will need to log in with an unlimited account, typically `root`, to modify the default ulimit settings that may be limiting your user.\n",
        "```python\n",
        "ulimit -n 100 -u 35 # limits the number of open files descriptors to 100 and the number of processes to 35\n",
        "```\n",
        "1. You can also edit the `ulimit` setting using the below files\n",
        "    * /etc/bashrc\n",
        "    * /etc/profile\n",
        "1. You can also use `/etc/sysctl.conf` (see: `man sysctl.conf`) to increase the kernel limits, for example:\n",
        "```bash\n",
        "kern.maxprocperuid=1000\n",
        "kern.maxproc=2000\n",
        "```\n",
        "    * Alternatively, you can run `sysctl -w kernel.pid_max=131072`"
      ],
      "metadata": {
        "id": "q0kbhS-Dg2un"
      }
    },
    {
      "cell_type": "markdown",
      "source": [
        "---\n",
        "## 🌎 Networking"
      ],
      "metadata": {
        "id": "MUs2HPokF2Gk"
      }
    },
    {
      "cell_type": "markdown",
      "source": [
        "### ❓**How to count the total number of TCP connections in the system?**"
      ],
      "metadata": {
        "id": "a4AqnJZWF5PI"
      }
    },
    {
      "cell_type": "markdown",
      "source": [
        "1. Use `ss -s` (summary statistics) \n",
        "\n",
        "```bash\n",
        "$ ss -s\n",
        "Total: 1786 (kernel 0)\n",
        "TCP:   52 (estab 12, closed 14, orphaned 0, synrecv 0, timewait 3/0), ports 0\n",
        "Transport Total     IP        IPv6\n",
        "*         0         -         -        \n",
        "RAW       2         1         1        \n",
        "UDP       36        25        11       \n",
        "TCP       38        28        10       \n",
        "INET      76        54        22       \n",
        "FRAG      0         0         0  \n",
        "```\n",
        "\n",
        "2. Read the `sockstat` file in the `/proc` filesystem\n",
        "\n",
        "```bash\n",
        "$ cat /proc/net/sockstat\n",
        "sockets: used 1783\n",
        "TCP: inuse 27 orphan 0 tw 1 alloc 48 mem 16\n",
        "UDP: inuse 23 mem 85\n",
        "UDPLITE: inuse 0\n",
        "RAW: inuse 1\n",
        "FRAG: inuse 0 memory 0\n",
        "```\n",
        "\n",
        "3. Read the `tcp` file in the `/proc` filesystem\n",
        "\n",
        "```bash\n",
        "$ awk 'BEGIN{printf(\"%6s %6s\\n\",\"STATE\", \"COUNT\")} NR>1 {count[$4]++} END{for(key in count){printf(\"%6s %6s\\n\",key,count[key])}}' /proc/net/tcp\n",
        " STATE  COUNT\n",
        "    08      1\n",
        "    01     12\n",
        "    0A     15\n",
        "    06      3\n",
        "```\n",
        "\n",
        "\n",
        "\n"
      ],
      "metadata": {
        "id": "P5m0SfQ-GEO9"
      }
    },
    {
      "cell_type": "markdown",
      "source": [
        "### ❓ **How do you check for open ports in the linux server?**\n"
      ],
      "metadata": {
        "id": "8MrudGWR9992"
      }
    },
    {
      "cell_type": "markdown",
      "source": [
        "* Use `netstat -tulpn`\n",
        "```bash\n",
        "$ netstat -tulpn\n",
        "Active Internet connections (only servers)\n",
        "Proto Recv-Q Send-Q Local Address           Foreign Address         State       PID/Program name\n",
        "tcp        0      0 0.0.0.0:111             0.0.0.0:*               LISTEN      669/rpcbind     \n",
        "tcp        0      0 0.0.0.0:22              0.0.0.0:*               LISTEN      770/sshd        \n",
        "tcp6       0      0 :::111                  :::*                    LISTEN      669/rpcbind     \n",
        "tcp6       0      0 :::22                   :::*                    LISTEN      770/sshd        \n",
        "udp        0      0 0.0.0.0:68              0.0.0.0:*                           576/dhclient    \n",
        "udp        0      0 0.0.0.0:111             0.0.0.0:*                           669/rpcbind     \n",
        "udp        0      0 10.0.0.34:123           0.0.0.0:*                           800/ntpd        \n",
        "udp        0      0 127.0.0.1:123           0.0.0.0:*                           800/ntpd        \n",
        "udp        0      0 0.0.0.0:123             0.0.0.0:*                           800/ntpd        \n",
        "udp        0      0 0.0.0.0:845             0.0.0.0:*                           669/rpcbind     \n",
        "udp6       0      0 :::111                  :::*                                669/rpcbind     \n",
        "udp6       0      0 fe80::42:aff:fe00:2:123 :::*                                800/ntpd        \n",
        "udp6       0      0 ::1:123                 :::*                                800/ntpd        \n",
        "udp6       0      0 :::123                  :::*                                800/ntpd        \n",
        "udp6       0      0 :::845                  :::*                                669/rpcbind   \n",
        "```"
      ],
      "metadata": {
        "id": "4NWl4H_H-JyR"
      }
    },
    {
      "cell_type": "markdown",
      "source": [
        "---\n",
        "## 🔥 Performance Analysis "
      ],
      "metadata": {
        "id": "ZgIKXm_fBzZd"
      }
    },
    {
      "cell_type": "markdown",
      "source": [
        "### **❓How do you troubleshoot a slow server?**"
      ],
      "metadata": {
        "id": "8yX-lqZuBkft"
      }
    },
    {
      "cell_type": "markdown",
      "source": [
        "**Step 1: ⚡ Process CPU Analysis**\n",
        "1. Run `ps auxww` or `top` to look for obvious runaway processes (e.g.: processes that take more than 50% of the CPU)\n",
        "1. Otherwise, check if two or three processes are getting at least 10% CPU and inspect the **load average** with `uptime`.\n",
        "1. Finally, use `vmstat` or `top` to check whether the CPU is ever idle.\n",
        "\n",
        "**Step 2: 🧠 Virtual Memory Analysis**\n",
        "- Run `vmstat 1` to see how much paging is going on. \n",
        "\n",
        "**Step 3: 💽 Disk Analysis**\n",
        "- Inspect the disk activity using `iostat -xz 1`\n",
        "\n",
        "**Step 4: 🔎 Narrow Down Suspects Processes**\n",
        "1. Use `ps` to narrow down suspects and use `kill -STOP` to suspend the process.\n",
        "1. Use `ulimit -m 32000000` to cause all subsequent commands that the user runs to have their use of physical memory limited to 32MB.\n",
        "\n",
        "**Step 5: 🌎 Network Analysis**\n",
        "- Use `sar -n DEV 1` to check network interface throughput."
      ],
      "metadata": {
        "id": "n7IFJ08lBtid"
      }
    },
    {
      "cell_type": "markdown",
      "source": [
        "---\n",
        "### 🧰 [Performance Analysis Cheat Sheet](https://netflixtechblog.com/linux-performance-analysis-in-60-000-milliseconds-accc10403c55)"
      ],
      "metadata": {
        "id": "bX3OynnlReNV"
      }
    },
    {
      "cell_type": "markdown",
      "source": [
        "```bash\n",
        "uptime\n",
        "dmesg | tail\n",
        "vmstat 1\n",
        "mpstat -P ALL 1\n",
        "pidstat 1\n",
        "iostat -xz 1\n",
        "free -m\n",
        "sar -n DEV 1\n",
        "sar -n TCP,ETCP 1\n",
        "top\n",
        "```"
      ],
      "metadata": {
        "id": "u01jw1WdRtMA"
      }
    },
    {
      "cell_type": "markdown",
      "source": [
        "---\n",
        "## 🧯 Linux Troubleshooting Interview Questions"
      ],
      "metadata": {
        "id": "ErvvnAAGjmqJ"
      }
    },
    {
      "cell_type": "markdown",
      "source": [
        "### **❓ A user is unable to `ssh` to a remote server, what is the cause?**"
      ],
      "metadata": {
        "id": "Y6dgJ1Aejstf"
      }
    },
    {
      "cell_type": "markdown",
      "source": [
        "**Insufficient permissions in ssh private key**\n",
        "1. Run `chmod 400 myPrivateKey.pem`\n",
        "2. Then, `ssh -i myPrivateKey.pem user@192.168.0.1`\n",
        "\n",
        "**Wrong ssh configurations in `sshd` config file**\n",
        "1. Read the ssh config file using `vim /etc/ssh/sshd_config`\n",
        "2. Check the ssh configurations such as:\n",
        "    * `Port` - Specifies the port number that sshd listens on. The default is 22.\n",
        "    * `AddressFamily` - Specifies which address family should be used by sshd. Valid arguments are any (the default), inet (use IPv4 only), or inet6 (use IPv6 only).\n",
        "    * `PermitRootLogin` - Specifies whether root can log in using ssh(1).\n",
        "    * `DenyUsers` - A list of users who are denied access\n",
        "    * `PublicKeyAuthentication` - to allow or deny ssh authentication using public keys\n",
        "    * `AuthorizedKeysFile` - Specifies the file that contains the public keys used for user authentication. (e.g.: `.ssh/authorized_keys`)\n",
        "    * `PasswordAuthentication` - Specifies whether password authentication is allowed. The default is yes.\n",
        "    \n",
        "Note: Make sure the permissions to the `sshd` directory is enough (`drwx--x--x`)"
      ],
      "metadata": {
        "id": "p0yOUjjtkVD9"
      }
    },
    {
      "cell_type": "markdown",
      "source": [
        "---\n",
        "### **❓ Root user created a file called `/tmp/abc/` with 700 permissions. You want another user to have full access to this file, how do you do this?**\n",
        "\n",
        "1. Create a file using `touch /tmp/abc`\n",
        "2. Check the permissions of this file using `ll /tmp/abc`\n",
        "\n",
        "```bash\n",
        "-rw-r--r-- /tmp/abc # 644 permissions is set by default\n",
        "```\n",
        "\n",
        "3. Create a user using `useradd ken` and set a password using `passwd ken`\n",
        "4. Change the permissions of the file `chmod 700 /tmp/abc` and check again `ll /tmp/abc`\n",
        "5. As ken, try to access the file. You will be prompted 'Permission denied'.\n",
        "```bash\n",
        "> su - ken\n",
        "> cat /tmp/abc\n",
        "cat: /tmp/abc: Permission denied\n",
        "> logout\n",
        "```\n",
        "\n",
        "6. Elevate the permissions of the user for that file using `setfacl -m u:ken:rwx /tmp/abc`. Use `-R` flag to recursively apply permissions to all files within directory.\n",
        "7. Check your permissions again as that user using `getfacl /tmp/abc`\n",
        "```bash\n",
        "> su - ken\n",
        "> getfacl /tmp/abc\n",
        "user:ken:rwx\n",
        "```"
      ],
      "metadata": {
        "id": "lK1cV2lnoY4M"
      }
    },
    {
      "cell_type": "markdown",
      "source": [
        "---\n",
        "### **❓ How do you change the default login shell for all users in Linux?**"
      ],
      "metadata": {
        "id": "8HE1SSOXuPXd"
      }
    },
    {
      "cell_type": "markdown",
      "source": [
        "**Edit the shadow password suite configuration file `login.def`**\n",
        "1. Run `vim /etc/login.defs`.\n",
        "1. You can edit the username and password configuration here: \n",
        "```python\n",
        "# Password aging controls:\n",
        "#\tPASS_MAX_DAYS\tMaximum number of days a password may be used.\n",
        "#\tPASS_MIN_DAYS\tMinimum number of days allowed between password changes.\n",
        "#\tPASS_MIN_LEN\tMinimum acceptable password length.\n",
        "#\tPASS_WARN_AGE\tNumber of days warning given before a password expires.\n",
        "PASS_MAX_DAYS\t99999\n",
        "PASS_MIN_DAYS\t0\n",
        "PASS_MIN_LEN\t5\n",
        "PASS_WARN_AGE\t7\n",
        "# Min/max values for automatic uid selection in useradd\n",
        "UID_MIN                  1000\n",
        "UID_MAX                 60000\n",
        "# System accounts\n",
        "SYS_UID_MIN               201\n",
        "SYS_UID_MAX               999\n",
        "# Min/max values for automatic gid selection in groupadd\n",
        "GID_MIN                  1000\n",
        "GID_MAX                 60000\n",
        "# System accounts\n",
        "SYS_GID_MIN               201\n",
        "SYS_GID_MAX               999\n",
        "```\n",
        "\n",
        "**Edit the useradd configuration file**\n",
        "1. Run `vim /etc/default/useradd` and change the `SHELL` path directory.\n",
        "```python\n",
        "# useradd defaults file\n",
        "GROUP=100\n",
        "HOME=/home\n",
        "INACTIVE=-1\n",
        "EXPIRE=\n",
        "SHELL=/bin/sh # Edit here!\n",
        "SKEL=/etc/skel\n",
        "CREATE_MAIL_SPOOL=yes\n",
        "```\n"
      ],
      "metadata": {
        "id": "qj2h63l1uYii"
      }
    },
    {
      "cell_type": "markdown",
      "source": [
        "---\n",
        "### **❓After setting up passwordless ssh access, whenever I try to login to a server, it still asks me for a password. My public key is also set up in the remote server.**"
      ],
      "metadata": {
        "id": "WMKJCTikxuLY"
      }
    },
    {
      "cell_type": "markdown",
      "source": [
        "1. Make sure the public key added to the remote server is given sufficient permissions using `chmod 400 myPublicKey.pem`\n",
        "1. Then, run `ssh-add` to check if ssh agent forwarding is enabled and ssh connection is established."
      ],
      "metadata": {
        "id": "Tp-zEdesyMQ8"
      }
    },
    {
      "cell_type": "markdown",
      "source": [
        "---\n",
        "### **❓ How do you disable the root user?**"
      ],
      "metadata": {
        "id": "_eqIdMFnyl5N"
      }
    },
    {
      "cell_type": "markdown",
      "source": [
        "1. Run `usermod -s /sbin/nologin root`\n",
        "1. Then check your access as a root user using: \n",
        "```bash\n",
        "> logout\n",
        "> sudo su -\n",
        "This account is currently not available.\n",
        "```\n",
        "1. To re-enable, run `sudo usermod -s /bin/bash root`"
      ],
      "metadata": {
        "id": "UoWj7_IrysBn"
      }
    },
    {
      "cell_type": "markdown",
      "source": [
        "---\n",
        "### **❓ A server is running the `httpd` service. How do you make sure `httpd` runs on only 2 CPU cores? (`CPUAffinity = 2`)**"
      ],
      "metadata": {
        "id": "m80Ml-syzOWj"
      }
    },
    {
      "cell_type": "markdown",
      "source": [
        "1. Install `httpd` using `yum install httpd -y` for CentOS distributions. \n",
        "1. Install `mlocate` which is used to locate configuration files using `yum install mlocate -y`\n",
        "1. Run `updatedb` to update the search indices of your local system database.\n",
        "1. Run `locate httpd.service` to reveal the directory paths of all the `httpd` configuration files.\n",
        "```bash\n",
        "> locate httpd.service\n",
        "/usr/lib/systemd/system/httpd.service\n",
        "/usr/lib/systemd/system/httpd.service.d\n",
        "/usr/share/man/man8/httpd.service.8.gz\n",
        "```\n",
        "1. Edit the `httpd` service configuration file using `/usr/lib/systemd/system/httpd.service`\n",
        "1. Within the `httpd.service` config file, add `CPUAffinity=2` under `[Service]`\n",
        "1. Restart the service using `systemctl daemon-reload && systemctl restart httpd` and check its status using `systemctl status httpd`\n",
        "\n"
      ],
      "metadata": {
        "id": "1wiG1t8RzshO"
      }
    },
    {
      "cell_type": "markdown",
      "source": [
        "---\n",
        "### **❓ After rebooting, there is a time difference between the `/var/log/message` and the OS time.**\n",
        "\n",
        "\n",
        "\n",
        "\n",
        "\n"
      ],
      "metadata": {
        "id": "nOUI3lNs2Lxb"
      }
    },
    {
      "cell_type": "markdown",
      "source": [
        "1. There is a time difference between `date` and `cat /var/log/message/`.\n",
        "1. There are 2 types of times in Linux:\n",
        "    * Hardware time in BIOS - shown using `hwclock`\n",
        "    * System time in OS - shown using `date`\n",
        "1. The hardware time needs to synchronize with the system time. \n",
        "    * Run `hwclock --systohc` to set the hardware clock to the current system time OR\n",
        "    * Run `hwclock --hctosys` to set the system time from the hardware clock."
      ],
      "metadata": {
        "id": "MQlQfPm14giG"
      }
    },
    {
      "cell_type": "markdown",
      "source": [
        "---\n",
        "### **❓ How to restart a service only if the service is already running? Stopped service should not be affected.**"
      ],
      "metadata": {
        "id": "jrklJg-h5zIr"
      }
    },
    {
      "cell_type": "markdown",
      "source": [
        "1. Check if the service (e.g.: `httpd`) is running using `ps aux | grep httpd`\n",
        "1. Restart the service using `systemctl restart httpd`. Make sure to run `systemctl daemon-reload` if you have modified the configuration file of the service before.\n",
        "1. But this also restarts any stopped services. Hence, we use `systemctl try-restart httpd` instead to restart services that are only already running while stopped services are unaffected."
      ],
      "metadata": {
        "id": "NlqmyPYN6IbB"
      }
    },
    {
      "cell_type": "markdown",
      "source": [
        "---\n",
        "### **❓ What is the maximum filename length allowed in Linux?**"
      ],
      "metadata": {
        "id": "Tk22bG_V7P2i"
      }
    },
    {
      "cell_type": "markdown",
      "source": [
        "You can have a maximum of 255 characters in a filename in Linux"
      ],
      "metadata": {
        "id": "i2iabVee7j-j"
      }
    },
    {
      "cell_type": "markdown",
      "source": [
        "---\n",
        "### **❓ How do you clear caches in Linux?**"
      ],
      "metadata": {
        "id": "DY_7SroD7uCa"
      }
    },
    {
      "cell_type": "markdown",
      "source": [
        "1. To clear **pagecache**, run `echo 1 > /proc/sys/vm/drop_caches`\n",
        "1. To clear **dentries** and **inodes**, run `echo 2 > /proc/sys/vm/drop_caches`\n",
        "1. To clear all **pagecache**, **dentries** and **inodes**, run `echo 3 > /proc/sys/vm/drop_caches`. **Warning:** Not recommended in production systems as it will impact performance!"
      ],
      "metadata": {
        "id": "J2HmsDnN71Gd"
      }
    }
  ]
}