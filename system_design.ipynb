{
  "nbformat": 4,
  "nbformat_minor": 0,
  "metadata": {
    "colab": {
      "name": "system-design.ipynb",
      "provenance": [],
      "authorship_tag": "ABX9TyMkyzVFAoXbZzFulHjIqlSf",
      "include_colab_link": true
    },
    "kernelspec": {
      "name": "python3",
      "display_name": "Python 3"
    },
    "language_info": {
      "name": "python"
    }
  },
  "cells": [
    {
      "cell_type": "markdown",
      "metadata": {
        "id": "view-in-github",
        "colab_type": "text"
      },
      "source": [
        "<a href=\"https://colab.research.google.com/github/KenYew/sre-notes/blob/main/system_design.ipynb\" target=\"_parent\"><img src=\"https://colab.research.google.com/assets/colab-badge.svg\" alt=\"Open In Colab\"/></a>"
      ]
    },
    {
      "cell_type": "markdown",
      "source": [
        "## 📔 System Design Template\n",
        "\n",
        "(1) FEATURE EXPECTATIONS [5 min]\n",
        "\n",
        "        (1) Use cases\n",
        "        (2) Scenarios that will not be covered\n",
        "        (3) Who will use\n",
        "        (4) How many will use\n",
        "        (5) Usage patterns\n",
        "(2) ESTIMATIONS [5 min]\n",
        "\n",
        "        (1) Throughput (QPS for read and write queries)\n",
        "        (2) Latency expected from the system (for read and write queries)\n",
        "        (3) Read/Write ratio\n",
        "        (4) Traffic estimates\n",
        "                - Write (QPS, Volume of data)\n",
        "                - Read  (QPS, Volume of data)\n",
        "        (5) Storage estimates\n",
        "        (6) Memory estimates\n",
        "                - If we are using a cache, what is the kind of data we want to store in cache\n",
        "                - How much RAM and how many machines do we need for us to achieve this ?\n",
        "                - Amount of data you want to store in disk/ssd\n",
        "(3) DESIGN GOALS [5 min]\n",
        "\n",
        "        (1) Latency and Throughput requirements\n",
        "        (2) Consistency vs Availability  [Weak/strong/eventual => consistency | Failover/replication => availability]\n",
        "(4) HIGH LEVEL DESIGN [5-10 min]\n",
        "\n",
        "        (1) APIs for Read/Write scenarios for crucial components\n",
        "        (2) Database schema\n",
        "        (3) Basic algorithm\n",
        "        (4) High level design for Read/Write scenario\n",
        "(5) DEEP DIVE [15-20 min]\n",
        "\n",
        "        (1) Scaling the algorithm\n",
        "        (2) Scaling individual components: \n",
        "                -> Availability, Consistency and Scale story for each component\n",
        "                -> Consistency and availability patterns\n",
        "        (3) Think about the following components, how they would fit in and how it would help\n",
        "                a) DNS\n",
        "                b) CDN [Push vs Pull]\n",
        "                c) Load Balancers [Active-Passive, Active-Active, Layer 4, Layer 7]\n",
        "                d) Reverse Proxy\n",
        "                e) Application layer scaling [Microservices, Service Discovery]\n",
        "                f) DB [RDBMS, NoSQL]\n",
        "                        > RDBMS \n",
        "                            >> Master-slave, Master-master, Federation, Sharding, Denormalization, SQL Tuning\n",
        "                        > NoSQL\n",
        "                            >> Key-Value, Wide-Column, Graph, Document\n",
        "                                Fast-lookups:\n",
        "                                -------------\n",
        "                                    >>> RAM  [Bounded size] => Redis, Memcached\n",
        "                                    >>> AP [Unbounded size] => Cassandra, RIAK, Voldemort\n",
        "                                    >>> CP [Unbounded size] => HBase, MongoDB, Couchbase, DynamoDB\n",
        "                g) Caches\n",
        "                        > Client caching, CDN caching, Webserver caching, Database caching, Application caching, Cache @Query level, Cache @Object level\n",
        "                        > Caching Techniques:\n",
        "                                >> Cache aside\n",
        "                                >> Write through\n",
        "                                >> Write behind\n",
        "                                >> Refresh ahead\n",
        "                        > Eviction Policies:\n",
        "                                >> LRU\n",
        "                                >> LFU\n",
        "                                >> FIFO\n",
        "                h) Asynchronism\n",
        "                        > Message queues\n",
        "                        > Task queues\n",
        "                        > Back pressure\n",
        "                i) Communication\n",
        "                        > TCP\n",
        "                        > UDP\n",
        "                        > REST\n",
        "                        > RPC\n",
        "(6) JUSTIFY [5 min]\n",
        "\n",
        "\t(1) Throughput of each layer\n",
        "\t(2) Latency caused between each layer\n",
        "\t(3) Overall latency justification"
      ],
      "metadata": {
        "id": "6pAf2hnnpA7n"
      }
    },
    {
      "cell_type": "markdown",
      "source": [
        "---\n",
        "## 💡 Availability Numbers\n"
      ],
      "metadata": {
        "id": "HPeoZis5n9gR"
      }
    },
    {
      "cell_type": "markdown",
      "source": [
        "| Number of Nines | Availability (%) | Downtime per day | Downtime per year |\n",
        "|:--|:--|:--|:--|\n",
        "| 2 |  99% | 14.40 minutes | 3.65 days | \n",
        "| 3 | 99.9% | 1.44 minutes | 8.77 hours | \n",
        "| 4 | 99.99% | 8.64 seconds | 52.60 minutes | \n",
        "| 5 | 99.999% | 864.00 milliseconds | 5.26 minutes | \n",
        "| 6 | 99.9999% | 86.40 milliseconds | 31.56 seconds |"
      ],
      "metadata": {
        "id": "WWXjdLV_odi7"
      }
    },
    {
      "cell_type": "markdown",
      "source": [
        "---\n",
        "## 🌎 Common Latency Numbers"
      ],
      "metadata": {
        "id": "HEEl4F15pV6B"
      }
    },
    {
      "cell_type": "markdown",
      "source": [
        "| No. | Operation Name | Time |\n",
        "|:--|:--|:--|\n",
        "| 1. | L1 cache reference | 0.5 ns |\n",
        "| 2. | Branch mispredict | 5 ns\n",
        "| 3. | L2 cache reference | 7 ns\n",
        "| 4. | Mutex lock/unlock | 100 ns\n",
        "| 5. | Main memory reference | 100 ns\n",
        "| 6. | Compress 1K bytes with Zippy | 10,000 ns = 10 us\n",
        "| 7. | Send 2K bytes over 1 Gbps network | 20,000 ns = 20 us\n",
        "| 8. | Read 1 MB sequentially from memory | 250,000 ns = 250 us\n",
        "| 9. | Round trip within same datacenter | 500,000 ns = 500 us\n",
        "| 10. | Disk seek | 10,000,000 ns = 10 ms\n",
        "| 11. | Read 1 MB sequentially from network | 10,000,000 ns = 10ms\n",
        "| 12. | Read 1 MB sequentially from disk | 30,000,000 ns = 30 ms\n",
        "| 13. | Send packet CA->Netherlands->CA | 150,000,000 ns = 150 ms"
      ],
      "metadata": {
        "id": "lbDjAUhxpa0J"
      }
    },
    {
      "cell_type": "markdown",
      "source": [
        "---\n",
        "### ❓ Estimate Twitter QPS and storage requirements\n",
        "\n",
        "Please note the following numbers are for this exercise only as they are not real numbers from Twitter.\n",
        "\n",
        "Assumptions:\n",
        "\n",
        "• 300 million monthly active users.\n",
        "\n",
        "• 50% of users use Twitter daily.\n",
        "\n",
        "• Users post 2 tweets per day on average.\n",
        "\n",
        "• 10% of tweets contain media.\n",
        "\n",
        "• Data is stored for 5 years. Estimations:\n",
        "\n",
        "Query per second (QPS) estimate:\n",
        "\n",
        "• Daily active users (DAU) = 300 million * 50% = 150 million\n",
        "\n",
        "• Tweets QPS = 150 million * 2 tweets / 24 hour / 3600 seconds = ~3500\n",
        "\n",
        "• Peek QPS = 2 * QPS = ~7000\n",
        "\n",
        "We will only estimate media storage here.\n",
        "\n",
        "• Average tweet size:\n",
        "\n",
        "• tweet_id 64 bytes\n",
        "\n",
        "• text 140 bytes\n",
        "\n",
        "• media 1 MB\n",
        "\n",
        "• Media storage: 150 million * 2 * 10% * 1 MB = 30 TB per day\n",
        "\n",
        "• 5-year media storage: 30 TB * 365 * 5 = ~55 PB"
      ],
      "metadata": {
        "id": "GAIvXzeBqfcx"
      }
    },
    {
      "cell_type": "code",
      "source": [
        ""
      ],
      "metadata": {
        "id": "Q_MLXGPCr8IH"
      },
      "execution_count": null,
      "outputs": []
    }
  ]
}